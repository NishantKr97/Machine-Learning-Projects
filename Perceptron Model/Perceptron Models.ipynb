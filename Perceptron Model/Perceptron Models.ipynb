{
 "cells": [
  {
   "cell_type": "code",
   "execution_count": 28,
   "metadata": {},
   "outputs": [],
   "source": [
    "  #Function to test the perceptron model  \n",
    "  def test(self,I): \n",
    "    self.sum = 0\n",
    "    self.weighted_sum(I)\n",
    "    x = self.activation_check()\n",
    "    print(int(x))"
   ]
  },
  {
   "cell_type": "code",
   "execution_count": 37,
   "metadata": {},
   "outputs": [
    {
     "name": "stdout",
     "output_type": "stream",
     "text": [
      "OR :\n"
     ]
    },
    {
     "ename": "TypeError",
     "evalue": "object() takes no parameters",
     "output_type": "error",
     "traceback": [
      "\u001b[1;31m---------------------------------------------------------------------------\u001b[0m",
      "\u001b[1;31mTypeError\u001b[0m                                 Traceback (most recent call last)",
      "\u001b[1;32m<ipython-input-37-75dccd676792>\u001b[0m in \u001b[0;36m<module>\u001b[1;34m()\u001b[0m\n\u001b[0;32m      5\u001b[0m \u001b[0mY\u001b[0m \u001b[1;33m=\u001b[0m \u001b[1;33m[\u001b[0m\u001b[1;36m0\u001b[0m\u001b[1;33m,\u001b[0m\u001b[1;36m1\u001b[0m\u001b[1;33m,\u001b[0m\u001b[1;36m1\u001b[0m\u001b[1;33m,\u001b[0m\u001b[1;36m1\u001b[0m\u001b[1;33m]\u001b[0m\u001b[1;33m\u001b[0m\u001b[0m\n\u001b[0;32m      6\u001b[0m \u001b[1;33m\u001b[0m\u001b[0m\n\u001b[1;32m----> 7\u001b[1;33m \u001b[0mOrPerceptron\u001b[0m \u001b[1;33m=\u001b[0m \u001b[0mperceptron\u001b[0m\u001b[1;33m(\u001b[0m\u001b[1;36m2\u001b[0m\u001b[1;33m,\u001b[0m\u001b[1;36m0\u001b[0m\u001b[1;33m,\u001b[0m\u001b[1;36m0.01\u001b[0m\u001b[1;33m)\u001b[0m\u001b[1;33m\u001b[0m\u001b[0m\n\u001b[0m\u001b[0;32m      8\u001b[0m \u001b[1;33m\u001b[0m\u001b[0m\n\u001b[0;32m      9\u001b[0m \u001b[0mOrPerceptron\u001b[0m\u001b[1;33m.\u001b[0m\u001b[0mtrain\u001b[0m\u001b[1;33m(\u001b[0m\u001b[0mY\u001b[0m\u001b[1;33m,\u001b[0m\u001b[0mI\u001b[0m\u001b[1;33m,\u001b[0m\u001b[1;36m10000\u001b[0m\u001b[1;33m)\u001b[0m\u001b[1;33m\u001b[0m\u001b[0m\n",
      "\u001b[1;31mTypeError\u001b[0m: object() takes no parameters"
     ]
    }
   ],
   "source": [
    "#OR GATE Implementation\n",
    "print(\"OR :\")\n",
    "I = [(0,0),(0,1),(1,0),(1,1)]\n",
    "\n",
    "Y = [0,1,1,1]\n",
    "\n",
    "OrPerceptron = perceptron(2,0,0.01)\n",
    "\n",
    "OrPerceptron.train(Y,I,10000)\n",
    "\n",
    "OrPerceptron.test((0,0))\n",
    "OrPerceptron.test((0,1))\n",
    "OrPerceptron.test((1,0))\n",
    "OrPerceptron.test((1,1))\n"
   ]
  },
  {
   "cell_type": "code",
   "execution_count": 32,
   "metadata": {},
   "outputs": [
    {
     "name": "stdout",
     "output_type": "stream",
     "text": [
      "AND :\n"
     ]
    },
    {
     "ename": "TypeError",
     "evalue": "object() takes no parameters",
     "output_type": "error",
     "traceback": [
      "\u001b[1;31m---------------------------------------------------------------------------\u001b[0m",
      "\u001b[1;31mTypeError\u001b[0m                                 Traceback (most recent call last)",
      "\u001b[1;32m<ipython-input-32-522f625c0dbf>\u001b[0m in \u001b[0;36m<module>\u001b[1;34m()\u001b[0m\n\u001b[0;32m      5\u001b[0m \u001b[0mY\u001b[0m \u001b[1;33m=\u001b[0m \u001b[1;33m[\u001b[0m\u001b[1;36m0\u001b[0m\u001b[1;33m,\u001b[0m \u001b[1;36m0\u001b[0m\u001b[1;33m,\u001b[0m \u001b[1;36m0\u001b[0m\u001b[1;33m,\u001b[0m \u001b[1;36m1\u001b[0m\u001b[1;33m]\u001b[0m\u001b[1;33m\u001b[0m\u001b[0m\n\u001b[0;32m      6\u001b[0m \u001b[1;33m\u001b[0m\u001b[0m\n\u001b[1;32m----> 7\u001b[1;33m \u001b[0mAndPerceptron\u001b[0m \u001b[1;33m=\u001b[0m \u001b[0mperceptron\u001b[0m\u001b[1;33m(\u001b[0m\u001b[1;36m2\u001b[0m\u001b[1;33m,\u001b[0m\u001b[1;36m0\u001b[0m\u001b[1;33m,\u001b[0m\u001b[1;36m0.01\u001b[0m\u001b[1;33m)\u001b[0m\u001b[1;33m\u001b[0m\u001b[0m\n\u001b[0m\u001b[0;32m      8\u001b[0m \u001b[1;33m\u001b[0m\u001b[0m\n\u001b[0;32m      9\u001b[0m \u001b[0mAndPerceptron\u001b[0m\u001b[1;33m.\u001b[0m\u001b[0mtrain\u001b[0m\u001b[1;33m(\u001b[0m\u001b[0mY\u001b[0m\u001b[1;33m,\u001b[0m\u001b[0mI\u001b[0m\u001b[1;33m,\u001b[0m\u001b[1;36m10000\u001b[0m\u001b[1;33m)\u001b[0m\u001b[1;33m\u001b[0m\u001b[0m\n",
      "\u001b[1;31mTypeError\u001b[0m: object() takes no parameters"
     ]
    }
   ],
   "source": [
    "#AND GATE Implementation\n",
    "print(\"AND :\")\n",
    "I = [(0,0),(0,1),(1,0),(1,1)]\n",
    "\n",
    "Y = [0, 0, 0, 1]\n",
    "\n",
    "AndPerceptron = perceptron(2,0,0.01)\n",
    "\n",
    "AndPerceptron.train(Y,I,10000)\n",
    "\n",
    "AndPerceptron.test((0,0))\n",
    "AndPerceptron.test((0,1))\n",
    "AndPerceptron.test((1,0))\n",
    "AndPerceptron.test((1,1))"
   ]
  },
  {
   "cell_type": "code",
   "execution_count": 33,
   "metadata": {},
   "outputs": [
    {
     "name": "stdout",
     "output_type": "stream",
     "text": [
      "NOR :\n"
     ]
    },
    {
     "ename": "TypeError",
     "evalue": "object() takes no parameters",
     "output_type": "error",
     "traceback": [
      "\u001b[1;31m---------------------------------------------------------------------------\u001b[0m",
      "\u001b[1;31mTypeError\u001b[0m                                 Traceback (most recent call last)",
      "\u001b[1;32m<ipython-input-33-79cefcc1b0eb>\u001b[0m in \u001b[0;36m<module>\u001b[1;34m()\u001b[0m\n\u001b[0;32m      5\u001b[0m \u001b[0mY\u001b[0m \u001b[1;33m=\u001b[0m \u001b[1;33m[\u001b[0m\u001b[1;36m1\u001b[0m\u001b[1;33m,\u001b[0m \u001b[1;36m1\u001b[0m\u001b[1;33m,\u001b[0m \u001b[1;36m1\u001b[0m\u001b[1;33m,\u001b[0m \u001b[1;36m0\u001b[0m\u001b[1;33m]\u001b[0m\u001b[1;33m\u001b[0m\u001b[0m\n\u001b[0;32m      6\u001b[0m \u001b[1;33m\u001b[0m\u001b[0m\n\u001b[1;32m----> 7\u001b[1;33m \u001b[0mNorPerceptron\u001b[0m \u001b[1;33m=\u001b[0m \u001b[0mperceptron\u001b[0m\u001b[1;33m(\u001b[0m\u001b[1;36m2\u001b[0m\u001b[1;33m,\u001b[0m\u001b[1;36m0\u001b[0m\u001b[1;33m,\u001b[0m\u001b[1;36m0.01\u001b[0m\u001b[1;33m)\u001b[0m\u001b[1;33m\u001b[0m\u001b[0m\n\u001b[0m\u001b[0;32m      8\u001b[0m \u001b[1;33m\u001b[0m\u001b[0m\n\u001b[0;32m      9\u001b[0m \u001b[0mNorPerceptron\u001b[0m\u001b[1;33m.\u001b[0m\u001b[0mtrain\u001b[0m\u001b[1;33m(\u001b[0m\u001b[0mY\u001b[0m\u001b[1;33m,\u001b[0m\u001b[0mI\u001b[0m\u001b[1;33m,\u001b[0m\u001b[1;36m10000\u001b[0m\u001b[1;33m)\u001b[0m\u001b[1;33m\u001b[0m\u001b[0m\n",
      "\u001b[1;31mTypeError\u001b[0m: object() takes no parameters"
     ]
    }
   ],
   "source": [
    "#NOR GATE Implementation\n",
    "print(\"NOR :\")\n",
    "I = [(0,0),(0,1),(1,0),(1,1)]\n",
    "\n",
    "Y = [1, 1, 1, 0]\n",
    "\n",
    "NorPerceptron = perceptron(2,0,0.01)\n",
    "\n",
    "NorPerceptron.train(Y,I,10000)\n",
    "\n",
    "NorPerceptron.test((0,0))\n",
    "NorPerceptron.test((0,1))\n",
    "NorPerceptron.test((1,0))\n",
    "NorPerceptron.test((1,1))"
   ]
  },
  {
   "cell_type": "code",
   "execution_count": 38,
   "metadata": {},
   "outputs": [
    {
     "name": "stdout",
     "output_type": "stream",
     "text": [
      "NAND :\n"
     ]
    },
    {
     "ename": "TypeError",
     "evalue": "object() takes no parameters",
     "output_type": "error",
     "traceback": [
      "\u001b[1;31m---------------------------------------------------------------------------\u001b[0m",
      "\u001b[1;31mTypeError\u001b[0m                                 Traceback (most recent call last)",
      "\u001b[1;32m<ipython-input-38-b40655011730>\u001b[0m in \u001b[0;36m<module>\u001b[1;34m()\u001b[0m\n\u001b[0;32m      5\u001b[0m \u001b[0mY\u001b[0m \u001b[1;33m=\u001b[0m \u001b[1;33m[\u001b[0m\u001b[1;36m1\u001b[0m\u001b[1;33m,\u001b[0m \u001b[1;36m0\u001b[0m\u001b[1;33m,\u001b[0m \u001b[1;36m0\u001b[0m\u001b[1;33m,\u001b[0m \u001b[1;36m0\u001b[0m\u001b[1;33m]\u001b[0m\u001b[1;33m\u001b[0m\u001b[0m\n\u001b[0;32m      6\u001b[0m \u001b[1;33m\u001b[0m\u001b[0m\n\u001b[1;32m----> 7\u001b[1;33m \u001b[0mNandPerceptron\u001b[0m \u001b[1;33m=\u001b[0m \u001b[0mperceptron\u001b[0m\u001b[1;33m(\u001b[0m\u001b[1;36m2\u001b[0m\u001b[1;33m,\u001b[0m\u001b[1;36m0\u001b[0m\u001b[1;33m,\u001b[0m\u001b[1;36m0.01\u001b[0m\u001b[1;33m)\u001b[0m\u001b[1;33m\u001b[0m\u001b[0m\n\u001b[0m\u001b[0;32m      8\u001b[0m \u001b[1;33m\u001b[0m\u001b[0m\n\u001b[0;32m      9\u001b[0m \u001b[0mNandPerceptron\u001b[0m\u001b[1;33m.\u001b[0m\u001b[0mtrain\u001b[0m\u001b[1;33m(\u001b[0m\u001b[0mY\u001b[0m\u001b[1;33m,\u001b[0m\u001b[0mI\u001b[0m\u001b[1;33m,\u001b[0m\u001b[1;36m10000\u001b[0m\u001b[1;33m)\u001b[0m\u001b[1;33m\u001b[0m\u001b[0m\n",
      "\u001b[1;31mTypeError\u001b[0m: object() takes no parameters"
     ]
    }
   ],
   "source": [
    "#NAND GATE Implementation\n",
    "print(\"NAND :\")\n",
    "I = [(0,0),(0,1),(1,0),(1,1)]\n",
    "\n",
    "Y = [1, 0, 0, 0]\n",
    "\n",
    "NandPerceptron = perceptron(2,0,0.01)\n",
    "\n",
    "NandPerceptron.train(Y,I,10000)\n",
    "\n",
    "NandPerceptron.test((0,0))\n",
    "NandPerceptron.test((0,1))\n",
    "NandPerceptron.test((1,0))\n",
    "NandPerceptron.test((1,1))"
   ]
  },
  {
   "cell_type": "code",
   "execution_count": 39,
   "metadata": {},
   "outputs": [
    {
     "name": "stdout",
     "output_type": "stream",
     "text": [
      "OR :\n",
      "Weights after training:  [2.0, 2.0]\n",
      "Threshold after training:  0.01\n",
      "0\n",
      "1\n",
      "1\n",
      "1\n",
      "AND :\n",
      "Weights after training:  [0.6699999999999997, 1.1699999999999993]\n",
      "Threshold after training:  1.1700000000000008\n",
      "0\n",
      "0\n",
      "0\n",
      "1\n",
      "NOR :\n",
      "Weights after training:  [-0.020000000000000753, -0.010000000000000753]\n",
      "Threshold after training:  -0.03\n",
      "1\n",
      "1\n",
      "1\n",
      "0\n",
      "NAND :\n",
      "Weights after training:  [-1.6410484082740595e-15, -7.528699885739343e-16]\n",
      "Threshold after training:  -8.673617379884035e-17\n",
      "1\n",
      "0\n",
      "0\n",
      "0\n"
     ]
    }
   ],
   "source": [
    "#Perceptron model to implement basic gates\n",
    "import random \n",
    "\n",
    "class perceptron:\n",
    "  l_rate = 0.01             #Learning Rate\n",
    "  inputs = 2                #Number of inputs = I\n",
    "  sum = 0                   #Sum = I1*W1 + I2*W2 \n",
    "  weights = []              #weights = W\n",
    "  threshold = 0             #Threshold value\n",
    "  \n",
    "  \n",
    "  def __init__(self,inputs,threshold,l_rate):\n",
    "    self.l_rate = l_rate\n",
    "    self.inputs = inputs\n",
    "    self.threshold = threshold\n",
    "    \n",
    "    #generating random numbers for initial weights\n",
    "    self.weights = [random.randint(1,2),random.randint(1,2)]      \n",
    "  \n",
    "  #Function for checking activation of the perceptron  \n",
    "  def activation_check(self):\n",
    "    return bool(self.sum >= self.threshold)   #Compares the sum with threshold and returns True or False \n",
    "  \n",
    "  #Function to calculate weighted sum\n",
    "  def weighted_sum(self,I):\n",
    "    #Loop to calculate weighted sum Sum = I1*W1 + I2*W2 \n",
    "    for i in range(self.inputs):\n",
    "      self.sum += self.weights[i]*I[i]\n",
    "  \n",
    "  \n",
    "  #Function to train the data\n",
    "  def train(self,Y,I,iters):\n",
    "    \n",
    "    for i in range(iters):\n",
    "      #setting sum to 0\n",
    "      self.sum = 0\n",
    "      \n",
    "      #Finding the weighted sum and checking wether sum crossed threshold \n",
    "      self.weighted_sum(I[i%4])\n",
    "      y = int(self.activation_check())\n",
    "      \n",
    "      #Calculating error in the activation from the desired result\n",
    "      error = Y[i%4] - y\n",
    "      \n",
    "      delWeight = []\n",
    "      \n",
    "      #Calculating dW which is change in the weights needed to be added\n",
    "      delWeight = [self.l_rate * error * I[i%4][0],self.l_rate * error * I[i%4][1]]\n",
    "      #delWeight = self.l_rate * error * I[i%4][1]\n",
    "      \n",
    "      #Updating the self weights\n",
    "      self.weights[0] += delWeight[0]\n",
    "      self.weights[1] += delWeight[1]\n",
    "      \n",
    "      #Updating threshold value\n",
    "      self.threshold = -(-self.threshold + self.l_rate * error)\n",
    "    \n",
    "    print(\"Weights after training: \",self.weights)\n",
    "    print(\"Threshold after training: \",self.threshold)\n",
    "  \n",
    "  #Function to test the perceptron model  \n",
    "  def test(self,I):\n",
    "    \n",
    "    self.sum = 0\n",
    "    self.weighted_sum(I)\n",
    "    x = self.activation_check()\n",
    "    print(int(x))\n",
    "    \n",
    "\n",
    "\n",
    "#OR GATE Implementation\n",
    "print(\"OR :\")\n",
    "I = [(0,0),(0,1),(1,0),(1,1)]\n",
    "\n",
    "Y = [0,1,1,1]\n",
    "\n",
    "OrPerceptron = perceptron(2,0,0.01)\n",
    "\n",
    "OrPerceptron.train(Y,I,10000)\n",
    "\n",
    "OrPerceptron.test((0,0))\n",
    "OrPerceptron.test((0,1))\n",
    "OrPerceptron.test((1,0))\n",
    "OrPerceptron.test((1,1))\n",
    "\n",
    "\n",
    "#AND GATE Implementation\n",
    "print(\"AND :\")\n",
    "I = [(0,0),(0,1),(1,0),(1,1)]\n",
    "\n",
    "Y = [0, 0, 0, 1]\n",
    "\n",
    "AndPerceptron = perceptron(2,0,0.01)\n",
    "\n",
    "AndPerceptron.train(Y,I,10000)\n",
    "\n",
    "AndPerceptron.test((0,0))\n",
    "AndPerceptron.test((0,1))\n",
    "AndPerceptron.test((1,0))\n",
    "AndPerceptron.test((1,1))\n",
    "\n",
    "\n",
    "#NOR GATE Implementation\n",
    "print(\"NOR :\")\n",
    "I = [(0,0),(0,1),(1,0),(1,1)]\n",
    "\n",
    "Y = [1, 1, 1, 0]\n",
    "\n",
    "NorPerceptron = perceptron(2,0,0.01)\n",
    "\n",
    "NorPerceptron.train(Y,I,10000)\n",
    "\n",
    "NorPerceptron.test((0,0))\n",
    "NorPerceptron.test((0,1))\n",
    "NorPerceptron.test((1,0))\n",
    "NorPerceptron.test((1,1))\n",
    "\n",
    "\n",
    "#NAND GATE Implementation\n",
    "print(\"NAND :\")\n",
    "I = [(0,0),(0,1),(1,0),(1,1)]\n",
    "\n",
    "Y = [1, 0, 0, 0]\n",
    "\n",
    "NandPerceptron = perceptron(2,0,0.01)\n",
    "\n",
    "NandPerceptron.train(Y,I,10000)\n",
    "\n",
    "NandPerceptron.test((0,0))\n",
    "NandPerceptron.test((0,1))\n",
    "NandPerceptron.test((1,0))\n",
    "NandPerceptron.test((1,1))"
   ]
  },
  {
   "cell_type": "code",
   "execution_count": null,
   "metadata": {},
   "outputs": [],
   "source": []
  }
 ],
 "metadata": {
  "kernelspec": {
   "display_name": "Python 3",
   "language": "python",
   "name": "python3"
  },
  "language_info": {
   "codemirror_mode": {
    "name": "ipython",
    "version": 3
   },
   "file_extension": ".py",
   "mimetype": "text/x-python",
   "name": "python",
   "nbconvert_exporter": "python",
   "pygments_lexer": "ipython3",
   "version": "3.6.4"
  }
 },
 "nbformat": 4,
 "nbformat_minor": 2
}
