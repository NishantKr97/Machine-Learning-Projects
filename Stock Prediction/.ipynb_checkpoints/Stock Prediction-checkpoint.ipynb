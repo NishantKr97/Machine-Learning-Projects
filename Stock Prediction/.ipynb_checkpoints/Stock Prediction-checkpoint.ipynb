{
 "cells": [
  {
   "cell_type": "code",
   "execution_count": 102,
   "metadata": {},
   "outputs": [],
   "source": [
    "import quandl, math\n",
    "import numpy as np\n",
    "import pandas as pd\n",
    "from sklearn import preprocessing, cross_validation, svm\n",
    "from sklearn.linear_model import LinearRegression\n",
    "import matplotlib.pyplot as plt\n",
    "from matplotlib import style\n",
    "import datetime"
   ]
  },
  {
   "cell_type": "code",
   "execution_count": 103,
   "metadata": {},
   "outputs": [],
   "source": [
    "style.use('ggplot') # Matplotlib styles"
   ]
  },
  {
   "cell_type": "code",
   "execution_count": 104,
   "metadata": {},
   "outputs": [
    {
     "data": {
      "text/html": [
       "<div>\n",
       "<style scoped>\n",
       "    .dataframe tbody tr th:only-of-type {\n",
       "        vertical-align: middle;\n",
       "    }\n",
       "\n",
       "    .dataframe tbody tr th {\n",
       "        vertical-align: top;\n",
       "    }\n",
       "\n",
       "    .dataframe thead th {\n",
       "        text-align: right;\n",
       "    }\n",
       "</style>\n",
       "<table border=\"1\" class=\"dataframe\">\n",
       "  <thead>\n",
       "    <tr style=\"text-align: right;\">\n",
       "      <th></th>\n",
       "      <th>Value</th>\n",
       "    </tr>\n",
       "    <tr>\n",
       "      <th>Date</th>\n",
       "      <th></th>\n",
       "    </tr>\n",
       "  </thead>\n",
       "  <tbody>\n",
       "    <tr>\n",
       "      <th>2005-12-31</th>\n",
       "      <td>85.0</td>\n",
       "    </tr>\n",
       "    <tr>\n",
       "      <th>2006-12-31</th>\n",
       "      <td>106.0</td>\n",
       "    </tr>\n",
       "    <tr>\n",
       "      <th>2007-12-31</th>\n",
       "      <td>161.0</td>\n",
       "    </tr>\n",
       "    <tr>\n",
       "      <th>2008-12-31</th>\n",
       "      <td>186.0</td>\n",
       "    </tr>\n",
       "    <tr>\n",
       "      <th>2009-12-31</th>\n",
       "      <td>221.0</td>\n",
       "    </tr>\n",
       "    <tr>\n",
       "      <th>2010-12-31</th>\n",
       "      <td>212.0</td>\n",
       "    </tr>\n",
       "    <tr>\n",
       "      <th>2011-12-31</th>\n",
       "      <td>212.0</td>\n",
       "    </tr>\n",
       "    <tr>\n",
       "      <th>2012-12-31</th>\n",
       "      <td>275.0</td>\n",
       "    </tr>\n",
       "    <tr>\n",
       "      <th>2013-12-31</th>\n",
       "      <td>299.0</td>\n",
       "    </tr>\n",
       "    <tr>\n",
       "      <th>2014-12-31</th>\n",
       "      <td>315.0</td>\n",
       "    </tr>\n",
       "    <tr>\n",
       "      <th>2015-12-31</th>\n",
       "      <td>347.0</td>\n",
       "    </tr>\n",
       "  </tbody>\n",
       "</table>\n",
       "</div>"
      ],
      "text/plain": [
       "            Value\n",
       "Date             \n",
       "2005-12-31   85.0\n",
       "2006-12-31  106.0\n",
       "2007-12-31  161.0\n",
       "2008-12-31  186.0\n",
       "2009-12-31  221.0\n",
       "2010-12-31  212.0\n",
       "2011-12-31  212.0\n",
       "2012-12-31  275.0\n",
       "2013-12-31  299.0\n",
       "2014-12-31  315.0\n",
       "2015-12-31  347.0"
      ]
     },
     "execution_count": 104,
     "metadata": {},
     "output_type": "execute_result"
    }
   ],
   "source": [
    "quandl.get(\"NBSC/A0N0A03_110000_P_A\", authtoken=\"xhkWXm7LTsLNxk4Ubx4q\")"
   ]
  },
  {
   "cell_type": "code",
   "execution_count": 105,
   "metadata": {},
   "outputs": [],
   "source": [
    "df = quandl.get(\"WIKI/GOOGL\") #Getting dataset from quandl databank"
   ]
  },
  {
   "cell_type": "code",
   "execution_count": 106,
   "metadata": {},
   "outputs": [],
   "source": [
    "df = df[['Adj. Open', 'Adj. High', 'Adj. Low', 'Adj. Close', 'Adj. Volume']] #Listing out all the columns available in our dataset"
   ]
  },
  {
   "cell_type": "code",
   "execution_count": 107,
   "metadata": {},
   "outputs": [],
   "source": [
    "df['HL_PCT'] = (df['Adj. High'] - df['Adj. Low']) / df['Adj. Close'] * 100.0\t#Creating a new column which stores the High Low percentage "
   ]
  },
  {
   "cell_type": "code",
   "execution_count": 108,
   "metadata": {},
   "outputs": [
    {
     "name": "stdout",
     "output_type": "stream",
     "text": [
      "              Adj. Open    Adj. High     Adj. Low   Adj. Close  Adj. Volume  \\\n",
      "Date                                                                          \n",
      "2004-08-19    50.159839    52.191109    48.128568    50.322842   44659000.0   \n",
      "2004-08-20    50.661387    54.708881    50.405597    54.322689   22834300.0   \n",
      "2004-08-23    55.551482    56.915693    54.693835    54.869377   18256100.0   \n",
      "2004-08-24    55.792225    55.972783    51.945350    52.597363   15247300.0   \n",
      "2004-08-25    52.542193    54.167209    52.100830    53.164113    9188600.0   \n",
      "2004-08-26    52.637487    54.142132    52.492038    54.122070    7094800.0   \n",
      "2004-08-27    54.217364    54.478169    53.008633    53.239345    6211700.0   \n",
      "2004-08-30    52.802998    52.908323    51.162935    51.162935    5196700.0   \n",
      "2004-08-31    51.318415    52.015567    51.238167    51.343492    4917800.0   \n",
      "2004-09-01    51.509003    51.644421    49.989312    50.280210    9138200.0   \n",
      "2004-09-02    49.698414    51.343492    49.623182    50.912161   15118600.0   \n",
      "2004-09-03    50.631294    51.027517    49.813770    50.159839    5152400.0   \n",
      "2004-09-07    50.661387    51.157920    49.959219    50.947269    5847500.0   \n",
      "2004-09-08    50.525969    51.674514    50.405597    51.308384    4985600.0   \n",
      "2004-09-09    51.408694    51.514019    50.656371    51.313400    4061700.0   \n",
      "2004-09-10    50.892099    53.444980    50.806836    52.828075    8698800.0   \n",
      "2004-09-13    53.480088    54.372844    53.394825    53.916435    7844100.0   \n",
      "2004-09-14    53.886342    56.173402    53.560336    55.917612   10828900.0   \n",
      "2004-09-15    55.451172    57.291854    55.270615    56.173402   10713000.0   \n",
      "2004-09-16    56.343928    58.079285    55.997860    57.161452    9266300.0   \n",
      "2004-09-17    57.387149    58.926902    56.950802    58.926902    9472500.0   \n",
      "2004-09-20    58.656066    60.988265    58.565787    59.864797   10628700.0   \n",
      "2004-09-21    60.286097    60.396438    58.936933    59.102444    7228700.0   \n",
      "2004-09-22    58.906840    60.020277    58.585849    59.373280    7581200.0   \n",
      "2004-09-23    59.603992    61.504860    58.691174    60.597057    8535600.0   \n",
      "2004-09-24    60.672290    62.242136    60.065416    60.100525    9123400.0   \n",
      "2004-09-27    59.965107    60.627150    59.082382    59.313094    7066100.0   \n",
      "2004-09-28    60.762568    63.897245    60.291113    63.626409   16929000.0   \n",
      "2004-09-29    63.460898    67.719042    63.310433    65.742942   30516400.0   \n",
      "2004-09-30    65.150614    66.354831    64.699722    65.000651   13758000.0   \n",
      "...                 ...          ...          ...          ...          ...   \n",
      "2018-01-08  1111.000000  1119.160000  1110.000000  1114.210000    1148958.0   \n",
      "2018-01-09  1118.440000  1118.440000  1108.200000  1112.790000    1335995.0   \n",
      "2018-01-10  1107.000000  1112.780000  1103.980000  1110.140000    1027781.0   \n",
      "2018-01-11  1112.310000  1114.850000  1106.480000  1111.880000    1102461.0   \n",
      "2018-01-12  1110.100000  1131.300000  1108.010000  1130.650000    1914460.0   \n",
      "2018-01-16  1140.310000  1148.880000  1126.660000  1130.700000    1783881.0   \n",
      "2018-01-17  1136.360000  1139.320000  1123.490000  1139.100000    1353097.0   \n",
      "2018-01-18  1139.350000  1140.590000  1124.460000  1135.970000    1333633.0   \n",
      "2018-01-19  1138.030000  1143.780000  1132.500000  1143.500000    1418376.0   \n",
      "2018-01-22  1143.820000  1166.880000  1141.820000  1164.160000    1437954.0   \n",
      "2018-01-23  1170.620000  1178.510000  1167.250000  1176.170000    1832126.0   \n",
      "2018-01-24  1184.980000  1187.050000  1167.400000  1171.290000    1818182.0   \n",
      "2018-01-25  1180.710000  1185.000000  1171.840000  1182.140000    1398961.0   \n",
      "2018-01-26  1187.530000  1187.560000  1168.030000  1187.560000    1981476.0   \n",
      "2018-01-29  1188.000000  1198.000000  1184.060000  1186.480000    1533931.0   \n",
      "2018-01-30  1177.720000  1187.930000  1174.510000  1177.370000    1792602.0   \n",
      "2018-01-31  1183.810000  1186.320000  1172.100000  1182.220000    1643877.0   \n",
      "2018-02-01  1175.990000  1187.450000  1169.360000  1181.590000    2774967.0   \n",
      "2018-02-02  1127.420000  1131.300000  1111.170000  1119.200000    5798880.0   \n",
      "2018-02-05  1100.610000  1114.990000  1056.740000  1068.760000    3742469.0   \n",
      "2018-02-06  1033.980000  1087.380000  1030.010000  1084.430000    3732527.0   \n",
      "2018-02-07  1084.970000  1086.530000  1054.620000  1055.410000    2544683.0   \n",
      "2018-02-08  1059.870000  1063.930000  1005.120000  1005.600000    3067173.0   \n",
      "2018-02-09  1025.880000  1051.720000   997.000000  1043.430000    4436032.0   \n",
      "2018-02-12  1056.670000  1065.570000  1045.490000  1054.560000    2796258.0   \n",
      "2018-02-13  1050.000000  1061.220000  1046.920000  1054.140000    1574121.0   \n",
      "2018-02-14  1054.320000  1075.470000  1049.800000  1072.700000    2029979.0   \n",
      "2018-02-15  1083.450000  1094.100000  1067.230000  1091.360000    1806206.0   \n",
      "2018-02-16  1093.380000  1108.310000  1091.550000  1095.500000    1971928.0   \n",
      "2018-02-20  1092.760000  1116.290000  1090.000000  1103.590000    1646405.0   \n",
      "\n",
      "              HL_PCT  PCT_change  \n",
      "Date                              \n",
      "2004-08-19  8.072956    0.324968  \n",
      "2004-08-20  7.921706    7.227007  \n",
      "2004-08-23  4.049360   -1.227880  \n",
      "2004-08-24  7.657099   -5.726357  \n",
      "2004-08-25  3.886792    1.183658  \n",
      "2004-08-26  3.048837    2.820391  \n",
      "2004-08-27  2.760245   -1.803885  \n",
      "2004-08-30  3.411430   -3.106003  \n",
      "2004-08-31  1.514115    0.048866  \n",
      "2004-09-01  3.291771   -2.385589  \n",
      "2004-09-02  3.378977    2.442224  \n",
      "2004-09-03  2.419758   -0.931154  \n",
      "2004-09-07  2.352825    0.564301  \n",
      "2004-09-08  2.473118    1.548541  \n",
      "2004-09-09  1.671391   -0.185366  \n",
      "2004-09-10  4.993829    3.804080  \n",
      "2004-09-13  1.813953    0.815905  \n",
      "2004-09-14  4.673065    3.769546  \n",
      "2004-09-15  3.598214    1.302460  \n",
      "2004-09-16  3.641309    1.450952  \n",
      "2004-09-17  3.353477    2.683097  \n",
      "2004-09-20  4.046582    2.060710  \n",
      "2004-09-21  2.469450   -1.963394  \n",
      "2004-09-22  2.415949    0.791826  \n",
      "2004-09-23  4.643271    1.666106  \n",
      "2004-09-24  3.621798   -0.942382  \n",
      "2004-09-27  2.604431   -1.087320  \n",
      "2004-09-28  5.667665    4.713165  \n",
      "2004-09-29  6.705829    3.595985  \n",
      "2004-09-30  2.546296   -0.230179  \n",
      "...              ...         ...  \n",
      "2018-01-08  0.822107    0.288929  \n",
      "2018-01-09  0.920210   -0.505168  \n",
      "2018-01-10  0.792693    0.283650  \n",
      "2018-01-11  0.752779   -0.038658  \n",
      "2018-01-12  2.059877    1.851185  \n",
      "2018-01-16  1.965154   -0.842753  \n",
      "2018-01-17  1.389694    0.241121  \n",
      "2018-01-18  1.419932   -0.296660  \n",
      "2018-01-19  0.986445    0.480655  \n",
      "2018-01-22  2.152625    1.778252  \n",
      "2018-01-23  0.957345    0.474108  \n",
      "2018-01-24  1.677637   -1.155294  \n",
      "2018-01-25  1.113235    0.121114  \n",
      "2018-01-26  1.644548    0.002526  \n",
      "2018-01-29  1.174904   -0.127946  \n",
      "2018-01-30  1.139829   -0.029718  \n",
      "2018-01-31  1.202822   -0.134312  \n",
      "2018-02-01  1.530988    0.476195  \n",
      "2018-02-02  1.798606   -0.729098  \n",
      "2018-02-05  5.450241   -2.893850  \n",
      "2018-02-06  5.290337    4.879205  \n",
      "2018-02-07  3.023470   -2.724499  \n",
      "2018-02-08  5.848250   -5.120439  \n",
      "2018-02-09  5.244243    1.710726  \n",
      "2018-02-12  1.904112   -0.199684  \n",
      "2018-02-13  1.356556    0.394286  \n",
      "2018-02-14  2.393027    1.743304  \n",
      "2018-02-15  2.462066    0.730075  \n",
      "2018-02-16  1.529895    0.193894  \n",
      "2018-02-20  2.382225    0.991068  \n",
      "\n",
      "[3399 rows x 7 columns]\n"
     ]
    }
   ],
   "source": [
    "df['PCT_change'] = (df['Adj. Close'] - df['Adj. Open']) / df['Adj. Open'] * 100.0\t#Creating another column which stores the percentage change of the stocks\n",
    "print(df)"
   ]
  },
  {
   "cell_type": "code",
   "execution_count": 109,
   "metadata": {},
   "outputs": [],
   "source": [
    "df = df[['Adj. Close', 'HL_PCT', 'PCT_change', 'Adj. Volume']] #Selecting the required columns for making the predictions"
   ]
  },
  {
   "cell_type": "code",
   "execution_count": 110,
   "metadata": {},
   "outputs": [
    {
     "name": "stdout",
     "output_type": "stream",
     "text": [
      "             Adj. Close    HL_PCT  PCT_change  Adj. Volume\n",
      "Date                                                      \n",
      "2004-08-19    50.322842  8.072956    0.324968   44659000.0\n",
      "2004-08-20    54.322689  7.921706    7.227007   22834300.0\n",
      "2004-08-23    54.869377  4.049360   -1.227880   18256100.0\n",
      "2004-08-24    52.597363  7.657099   -5.726357   15247300.0\n",
      "2004-08-25    53.164113  3.886792    1.183658    9188600.0\n",
      "2004-08-26    54.122070  3.048837    2.820391    7094800.0\n",
      "2004-08-27    53.239345  2.760245   -1.803885    6211700.0\n",
      "2004-08-30    51.162935  3.411430   -3.106003    5196700.0\n",
      "2004-08-31    51.343492  1.514115    0.048866    4917800.0\n",
      "2004-09-01    50.280210  3.291771   -2.385589    9138200.0\n",
      "2004-09-02    50.912161  3.378977    2.442224   15118600.0\n",
      "2004-09-03    50.159839  2.419758   -0.931154    5152400.0\n",
      "2004-09-07    50.947269  2.352825    0.564301    5847500.0\n",
      "2004-09-08    51.308384  2.473118    1.548541    4985600.0\n",
      "2004-09-09    51.313400  1.671391   -0.185366    4061700.0\n",
      "2004-09-10    52.828075  4.993829    3.804080    8698800.0\n",
      "2004-09-13    53.916435  1.813953    0.815905    7844100.0\n",
      "2004-09-14    55.917612  4.673065    3.769546   10828900.0\n",
      "2004-09-15    56.173402  3.598214    1.302460   10713000.0\n",
      "2004-09-16    57.161452  3.641309    1.450952    9266300.0\n",
      "2004-09-17    58.926902  3.353477    2.683097    9472500.0\n",
      "2004-09-20    59.864797  4.046582    2.060710   10628700.0\n",
      "2004-09-21    59.102444  2.469450   -1.963394    7228700.0\n",
      "2004-09-22    59.373280  2.415949    0.791826    7581200.0\n",
      "2004-09-23    60.597057  4.643271    1.666106    8535600.0\n",
      "2004-09-24    60.100525  3.621798   -0.942382    9123400.0\n",
      "2004-09-27    59.313094  2.604431   -1.087320    7066100.0\n",
      "2004-09-28    63.626409  5.667665    4.713165   16929000.0\n",
      "2004-09-29    65.742942  6.705829    3.595985   30516400.0\n",
      "2004-09-30    65.000651  2.546296   -0.230179   13758000.0\n",
      "...                 ...       ...         ...          ...\n",
      "2018-01-08  1114.210000  0.822107    0.288929    1148958.0\n",
      "2018-01-09  1112.790000  0.920210   -0.505168    1335995.0\n",
      "2018-01-10  1110.140000  0.792693    0.283650    1027781.0\n",
      "2018-01-11  1111.880000  0.752779   -0.038658    1102461.0\n",
      "2018-01-12  1130.650000  2.059877    1.851185    1914460.0\n",
      "2018-01-16  1130.700000  1.965154   -0.842753    1783881.0\n",
      "2018-01-17  1139.100000  1.389694    0.241121    1353097.0\n",
      "2018-01-18  1135.970000  1.419932   -0.296660    1333633.0\n",
      "2018-01-19  1143.500000  0.986445    0.480655    1418376.0\n",
      "2018-01-22  1164.160000  2.152625    1.778252    1437954.0\n",
      "2018-01-23  1176.170000  0.957345    0.474108    1832126.0\n",
      "2018-01-24  1171.290000  1.677637   -1.155294    1818182.0\n",
      "2018-01-25  1182.140000  1.113235    0.121114    1398961.0\n",
      "2018-01-26  1187.560000  1.644548    0.002526    1981476.0\n",
      "2018-01-29  1186.480000  1.174904   -0.127946    1533931.0\n",
      "2018-01-30  1177.370000  1.139829   -0.029718    1792602.0\n",
      "2018-01-31  1182.220000  1.202822   -0.134312    1643877.0\n",
      "2018-02-01  1181.590000  1.530988    0.476195    2774967.0\n",
      "2018-02-02  1119.200000  1.798606   -0.729098    5798880.0\n",
      "2018-02-05  1068.760000  5.450241   -2.893850    3742469.0\n",
      "2018-02-06  1084.430000  5.290337    4.879205    3732527.0\n",
      "2018-02-07  1055.410000  3.023470   -2.724499    2544683.0\n",
      "2018-02-08  1005.600000  5.848250   -5.120439    3067173.0\n",
      "2018-02-09  1043.430000  5.244243    1.710726    4436032.0\n",
      "2018-02-12  1054.560000  1.904112   -0.199684    2796258.0\n",
      "2018-02-13  1054.140000  1.356556    0.394286    1574121.0\n",
      "2018-02-14  1072.700000  2.393027    1.743304    2029979.0\n",
      "2018-02-15  1091.360000  2.462066    0.730075    1806206.0\n",
      "2018-02-16  1095.500000  1.529895    0.193894    1971928.0\n",
      "2018-02-20  1103.590000  2.382225    0.991068    1646405.0\n",
      "\n",
      "[3399 rows x 4 columns]\n"
     ]
    }
   ],
   "source": [
    "print(df)"
   ]
  },
  {
   "cell_type": "code",
   "execution_count": 111,
   "metadata": {},
   "outputs": [],
   "source": [
    "p = pd.DataFrame(df['Adj. Close'])"
   ]
  },
  {
   "cell_type": "code",
   "execution_count": 112,
   "metadata": {},
   "outputs": [
    {
     "name": "stdout",
     "output_type": "stream",
     "text": [
      "Date\n",
      "2004-08-19      50.322842\n",
      "2004-08-20      54.322689\n",
      "2004-08-23      54.869377\n",
      "2004-08-24      52.597363\n",
      "2004-08-25      53.164113\n",
      "2004-08-26      54.122070\n",
      "2004-08-27      53.239345\n",
      "2004-08-30      51.162935\n",
      "2004-08-31      51.343492\n",
      "2004-09-01      50.280210\n",
      "2004-09-02      50.912161\n",
      "2004-09-03      50.159839\n",
      "2004-09-07      50.947269\n",
      "2004-09-08      51.308384\n",
      "2004-09-09      51.313400\n",
      "2004-09-10      52.828075\n",
      "2004-09-13      53.916435\n",
      "2004-09-14      55.917612\n",
      "2004-09-15      56.173402\n",
      "2004-09-16      57.161452\n",
      "2004-09-17      58.926902\n",
      "2004-09-20      59.864797\n",
      "2004-09-21      59.102444\n",
      "2004-09-22      59.373280\n",
      "2004-09-23      60.597057\n",
      "2004-09-24      60.100525\n",
      "2004-09-27      59.313094\n",
      "2004-09-28      63.626409\n",
      "2004-09-29      65.742942\n",
      "2004-09-30      65.000651\n",
      "                 ...     \n",
      "2018-01-08    1114.210000\n",
      "2018-01-09    1112.790000\n",
      "2018-01-10    1110.140000\n",
      "2018-01-11    1111.880000\n",
      "2018-01-12    1130.650000\n",
      "2018-01-16    1130.700000\n",
      "2018-01-17    1139.100000\n",
      "2018-01-18    1135.970000\n",
      "2018-01-19    1143.500000\n",
      "2018-01-22    1164.160000\n",
      "2018-01-23    1176.170000\n",
      "2018-01-24    1171.290000\n",
      "2018-01-25    1182.140000\n",
      "2018-01-26    1187.560000\n",
      "2018-01-29    1186.480000\n",
      "2018-01-30    1177.370000\n",
      "2018-01-31    1182.220000\n",
      "2018-02-01    1181.590000\n",
      "2018-02-02    1119.200000\n",
      "2018-02-05    1068.760000\n",
      "2018-02-06    1084.430000\n",
      "2018-02-07    1055.410000\n",
      "2018-02-08    1005.600000\n",
      "2018-02-09    1043.430000\n",
      "2018-02-12    1054.560000\n",
      "2018-02-13    1054.140000\n",
      "2018-02-14    1072.700000\n",
      "2018-02-15    1091.360000\n",
      "2018-02-16    1095.500000\n",
      "2018-02-20    1103.590000\n",
      "Name: Adj. Close, Length: 3399, dtype: float64\n"
     ]
    }
   ],
   "source": [
    "print(df['Adj. Close'])"
   ]
  },
  {
   "cell_type": "code",
   "execution_count": 113,
   "metadata": {},
   "outputs": [
    {
     "data": {
      "text/plain": [
       "<matplotlib.axes._subplots.AxesSubplot at 0x22545a32c88>"
      ]
     },
     "execution_count": 113,
     "metadata": {},
     "output_type": "execute_result"
    },
    {
     "data": {
      "image/png": "[encoded data removed]",
      "text/plain": [
       "<matplotlib.figure.Figure at 0x22545a4d5c0>"
      ]
     },
     "metadata": {},
     "output_type": "display_data"
    }
   ],
   "source": [
    "p.plot()"
   ]
  },
  {
   "cell_type": "code",
   "execution_count": 114,
   "metadata": {},
   "outputs": [
    {
     "data": {
      "text/plain": [
       "<matplotlib.axes._subplots.AxesSubplot at 0x22545989a58>"
      ]
     },
     "execution_count": 114,
     "metadata": {},
     "output_type": "execute_result"
    },
    {
     "data": {
      "image/png": "[encoded data removed]",
      "text/plain": [
       "<matplotlib.figure.Figure at 0x22545a4d048>"
      ]
     },
     "metadata": {},
     "output_type": "display_data"
    }
   ],
   "source": [
    "p = pd.DataFrame(df['HL_PCT'])\n",
    "p.plot()"
   ]
  },
  {
   "cell_type": "code",
   "execution_count": 115,
   "metadata": {},
   "outputs": [
    {
     "data": {
      "text/plain": [
       "<matplotlib.axes._subplots.AxesSubplot at 0x22544614438>"
      ]
     },
     "execution_count": 115,
     "metadata": {},
     "output_type": "execute_result"
    },
    {
     "data": {
      "image/png": "[encoded data removed]",
      "text/plain": [
       "<matplotlib.figure.Figure at 0x22545a99f60>"
      ]
     },
     "metadata": {},
     "output_type": "display_data"
    }
   ],
   "source": [
    "p = pd.DataFrame(df['PCT_change'])\n",
    "p.plot()"
   ]
  },
  {
   "cell_type": "code",
   "execution_count": 116,
   "metadata": {},
   "outputs": [
    {
     "data": {
      "text/plain": [
       "<matplotlib.axes._subplots.AxesSubplot at 0x22541eb5588>"
      ]
     },
     "execution_count": 116,
     "metadata": {},
     "output_type": "execute_result"
    },
    {
     "data": {
      "image/png": "[encoded data removed]",
      "text/plain": [
       "<matplotlib.figure.Figure at 0x225444e6d68>"
      ]
     },
     "metadata": {},
     "output_type": "display_data"
    }
   ],
   "source": [
    "p = pd.DataFrame(df['Adj. Volume'])\n",
    "p.plot()"
   ]
  },
  {
   "cell_type": "code",
   "execution_count": 117,
   "metadata": {},
   "outputs": [],
   "source": [
    "forecast_col = 'Adj. Close'\t#This column is the forecast column which we wil predict = df[['Adj. Close', 'HL_PCT', 'PCT_change', 'Adj. Volume']] #Selecting the required columns for making the predictions"
   ]
  },
  {
   "cell_type": "code",
   "execution_count": 118,
   "metadata": {},
   "outputs": [],
   "source": [
    "df.fillna(value=-99999, inplace=True)                      #Filling not number cells with large negative value\n",
    "forecast_out = int(math.ceil(0.01 * len(df)))              #Size of the input dataset taken into consideration\n",
    "df['label'] = df[forecast_col].shift(-forecast_out)        #Creating another column by shifting the Adj. Close column"
   ]
  },
  {
   "cell_type": "code",
   "execution_count": 119,
   "metadata": {},
   "outputs": [],
   "source": [
    "X = np.array(df.drop(['label'], 1))"
   ]
  },
  {
   "cell_type": "code",
   "execution_count": 120,
   "metadata": {},
   "outputs": [],
   "source": [
    "X = preprocessing.scale(X)         # Making mean nil and deviation one"
   ]
  },
  {
   "cell_type": "code",
   "execution_count": 121,
   "metadata": {},
   "outputs": [],
   "source": [
    "X_lately = X[-forecast_out:]\n",
    "X = X[:-forecast_out]"
   ]
  },
  {
   "cell_type": "code",
   "execution_count": 122,
   "metadata": {},
   "outputs": [],
   "source": [
    "df.dropna(inplace=True)                 #Droping the Not numbers columns"
   ]
  },
  {
   "cell_type": "code",
   "execution_count": 123,
   "metadata": {},
   "outputs": [],
   "source": [
    "y = np.array(df['label'])"
   ]
  },
  {
   "cell_type": "code",
   "execution_count": 124,
   "metadata": {},
   "outputs": [],
   "source": [
    "X_train, X_test, y_train, y_test = cross_validation.train_test_split(X, y, test_size=0.2) #Splitting data set into random numbers of train and test subsets"
   ]
  },
  {
   "cell_type": "code",
   "execution_count": 125,
   "metadata": {},
   "outputs": [],
   "source": [
    "clf = LinearRegression(normalize=False, n_jobs=-1)  # normalize => The regressors \"clf\" will be normalized before regression by subtracting the mean and dividing by the l2-norm.\n",
    "                                                    # n_jobs => The number of jobs to use for the computation. If -1 all CPUs are used."
   ]
  },
  {
   "cell_type": "code",
   "execution_count": 126,
   "metadata": {},
   "outputs": [
    {
     "data": {
      "text/plain": [
       "LinearRegression(copy_X=True, fit_intercept=True, n_jobs=-1, normalize=False)"
      ]
     },
     "execution_count": 126,
     "metadata": {},
     "output_type": "execute_result"
    }
   ],
   "source": [
    "clf.fit(X_train, y_train) "
   ]
  },
  {
   "cell_type": "code",
   "execution_count": 127,
   "metadata": {},
   "outputs": [],
   "source": [
    "confidence = clf.score(X_test, y_test) #Finding the accuracy of model on test dataset"
   ]
  },
  {
   "cell_type": "code",
   "execution_count": 128,
   "metadata": {},
   "outputs": [
    {
     "name": "stdout",
     "output_type": "stream",
     "text": [
      "0.9787784779144472\n"
     ]
    }
   ],
   "source": [
    "print(confidence)"
   ]
  },
  {
   "cell_type": "code",
   "execution_count": 129,
   "metadata": {},
   "outputs": [],
   "source": [
    "forecast_set = clf.predict(X_lately)    #Predicting the stock for future dates"
   ]
  },
  {
   "cell_type": "code",
   "execution_count": 130,
   "metadata": {},
   "outputs": [],
   "source": [
    "df['Forecast'] = np.nan                 #New column for forecasting data"
   ]
  },
  {
   "cell_type": "code",
   "execution_count": 131,
   "metadata": {},
   "outputs": [],
   "source": [
    "last_date = df.iloc[-1].name           # .iloc[] is primarily integer position based (from 0 to length-1 of the axis), but may also be used with a boolean array."
   ]
  },
  {
   "cell_type": "code",
   "execution_count": 132,
   "metadata": {},
   "outputs": [],
   "source": [
    "last_unix = last_date.timestamp()       # Time taken from UNIX timestamp started from 1970"
   ]
  },
  {
   "cell_type": "code",
   "execution_count": 133,
   "metadata": {},
   "outputs": [],
   "source": [
    "one_day = 86400                         # seconds in a day"
   ]
  },
  {
   "cell_type": "code",
   "execution_count": 134,
   "metadata": {},
   "outputs": [],
   "source": [
    "next_unix = last_unix + one_day         # incrementing the day"
   ]
  },
  {
   "cell_type": "code",
   "execution_count": 135,
   "metadata": {},
   "outputs": [],
   "source": [
    "for i in forecast_set:\n",
    "    next_date = datetime.datetime.fromtimestamp(next_unix)\n",
    "    next_unix += 86400\n",
    "df.loc[next_date] = [np.nan for _ in range(len(df.columns)-1)]+[i] #Creating column to store the predicted values"
   ]
  },
  {
   "cell_type": "code",
   "execution_count": 136,
   "metadata": {},
   "outputs": [
    {
     "data": {
      "image/png": "[encoded data removed]",
      "text/plain": [
       "<matplotlib.figure.Figure at 0x22545a4dcc0>"
      ]
     },
     "metadata": {},
     "output_type": "display_data"
    }
   ],
   "source": [
    "style.use('ggplot')\n",
    "df['Adj. Close'].plot()                         #Plotting the graph for predicted value for next 30days approx\n",
    "df['Forecast'].plot()\n",
    "plt.legend(loc=4)\n",
    "plt.xlabel('Date')\n",
    "plt.ylabel('Price')\n",
    "plt.show()"
   ]
  },
  {
   "cell_type": "code",
   "execution_count": null,
   "metadata": {},
   "outputs": [],
   "source": []
  }
 ],
 "metadata": {
  "kernelspec": {
   "display_name": "Python 3",
   "language": "python",
   "name": "python3"
  },
  "language_info": {
   "codemirror_mode": {
    "name": "ipython",
    "version": 3
   },
   "file_extension": ".py",
   "mimetype": "text/x-python",
   "name": "python",
   "nbconvert_exporter": "python",
   "pygments_lexer": "ipython3",
   "version": "3.6.4"
  }
 },
 "nbformat": 4,
 "nbformat_minor": 2
}
